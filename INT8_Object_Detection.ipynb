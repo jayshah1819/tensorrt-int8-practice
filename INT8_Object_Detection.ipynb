{
  "nbformat": 4,
  "nbformat_minor": 0,
  "metadata": {
    "colab": {
      "provenance": [],
      "gpuType": "T4",
      "authorship_tag": "ABX9TyNN+JPtzZIWH+X/flVuJZbW",
      "include_colab_link": true
    },
    "kernelspec": {
      "name": "python3",
      "display_name": "Python 3"
    },
    "language_info": {
      "name": "python"
    },
    "accelerator": "GPU"
  },
  "cells": [
    {
      "cell_type": "markdown",
      "metadata": {
        "id": "view-in-github",
        "colab_type": "text"
      },
      "source": [
        "<a href=\"https://colab.research.google.com/github/jayshah1819/tensorrt-int8-practice/blob/main/INT8_Object_Detection.ipynb\" target=\"_parent\"><img src=\"https://colab.research.google.com/assets/colab-badge.svg\" alt=\"Open In Colab\"/></a>"
      ]
    },
    {
      "cell_type": "code",
      "execution_count": 1,
      "metadata": {
        "id": "-Efl4X7jMJ9r"
      },
      "outputs": [],
      "source": [
        "!dpkg -l | grep nvinfer\n"
      ]
    },
    {
      "cell_type": "code",
      "source": [
        "!pip install torch torchvision ultralytics\n",
        "!apt-get update\n",
        "!apt-get install -y tensorrt\n"
      ],
      "metadata": {
        "colab": {
          "base_uri": "https://localhost:8080/"
        },
        "id": "n5ZjWVaT9S5Q",
        "outputId": "91918df6-5554-4d43-d9e9-0b6e939ea0e0"
      },
      "execution_count": 1,
      "outputs": [
        {
          "output_type": "stream",
          "name": "stdout",
          "text": [
            "Requirement already satisfied: torch in /usr/local/lib/python3.12/dist-packages (2.8.0+cu126)\n",
            "Requirement already satisfied: torchvision in /usr/local/lib/python3.12/dist-packages (0.23.0+cu126)\n",
            "Collecting ultralytics\n",
            "  Downloading ultralytics-8.3.201-py3-none-any.whl.metadata (37 kB)\n",
            "Requirement already satisfied: filelock in /usr/local/lib/python3.12/dist-packages (from torch) (3.19.1)\n",
            "Requirement already satisfied: typing-extensions>=4.10.0 in /usr/local/lib/python3.12/dist-packages (from torch) (4.15.0)\n",
            "Requirement already satisfied: setuptools in /usr/local/lib/python3.12/dist-packages (from torch) (75.2.0)\n",
            "Requirement already satisfied: sympy>=1.13.3 in /usr/local/lib/python3.12/dist-packages (from torch) (1.13.3)\n",
            "Requirement already satisfied: networkx in /usr/local/lib/python3.12/dist-packages (from torch) (3.5)\n",
            "Requirement already satisfied: jinja2 in /usr/local/lib/python3.12/dist-packages (from torch) (3.1.6)\n",
            "Requirement already satisfied: fsspec in /usr/local/lib/python3.12/dist-packages (from torch) (2025.3.0)\n",
            "Requirement already satisfied: nvidia-cuda-nvrtc-cu12==12.6.77 in /usr/local/lib/python3.12/dist-packages (from torch) (12.6.77)\n",
            "Requirement already satisfied: nvidia-cuda-runtime-cu12==12.6.77 in /usr/local/lib/python3.12/dist-packages (from torch) (12.6.77)\n",
            "Requirement already satisfied: nvidia-cuda-cupti-cu12==12.6.80 in /usr/local/lib/python3.12/dist-packages (from torch) (12.6.80)\n",
            "Requirement already satisfied: nvidia-cudnn-cu12==9.10.2.21 in /usr/local/lib/python3.12/dist-packages (from torch) (9.10.2.21)\n",
            "Requirement already satisfied: nvidia-cublas-cu12==12.6.4.1 in /usr/local/lib/python3.12/dist-packages (from torch) (12.6.4.1)\n",
            "Requirement already satisfied: nvidia-cufft-cu12==11.3.0.4 in /usr/local/lib/python3.12/dist-packages (from torch) (11.3.0.4)\n",
            "Requirement already satisfied: nvidia-curand-cu12==10.3.7.77 in /usr/local/lib/python3.12/dist-packages (from torch) (10.3.7.77)\n",
            "Requirement already satisfied: nvidia-cusolver-cu12==11.7.1.2 in /usr/local/lib/python3.12/dist-packages (from torch) (11.7.1.2)\n",
            "Requirement already satisfied: nvidia-cusparse-cu12==12.5.4.2 in /usr/local/lib/python3.12/dist-packages (from torch) (12.5.4.2)\n",
            "Requirement already satisfied: nvidia-cusparselt-cu12==0.7.1 in /usr/local/lib/python3.12/dist-packages (from torch) (0.7.1)\n",
            "Requirement already satisfied: nvidia-nccl-cu12==2.27.3 in /usr/local/lib/python3.12/dist-packages (from torch) (2.27.3)\n",
            "Requirement already satisfied: nvidia-nvtx-cu12==12.6.77 in /usr/local/lib/python3.12/dist-packages (from torch) (12.6.77)\n",
            "Requirement already satisfied: nvidia-nvjitlink-cu12==12.6.85 in /usr/local/lib/python3.12/dist-packages (from torch) (12.6.85)\n",
            "Requirement already satisfied: nvidia-cufile-cu12==1.11.1.6 in /usr/local/lib/python3.12/dist-packages (from torch) (1.11.1.6)\n",
            "Requirement already satisfied: triton==3.4.0 in /usr/local/lib/python3.12/dist-packages (from torch) (3.4.0)\n",
            "Requirement already satisfied: numpy in /usr/local/lib/python3.12/dist-packages (from torchvision) (2.0.2)\n",
            "Requirement already satisfied: pillow!=8.3.*,>=5.3.0 in /usr/local/lib/python3.12/dist-packages (from torchvision) (11.3.0)\n",
            "Requirement already satisfied: matplotlib>=3.3.0 in /usr/local/lib/python3.12/dist-packages (from ultralytics) (3.10.0)\n",
            "Requirement already satisfied: opencv-python>=4.6.0 in /usr/local/lib/python3.12/dist-packages (from ultralytics) (4.12.0.88)\n",
            "Requirement already satisfied: pyyaml>=5.3.1 in /usr/local/lib/python3.12/dist-packages (from ultralytics) (6.0.2)\n",
            "Requirement already satisfied: requests>=2.23.0 in /usr/local/lib/python3.12/dist-packages (from ultralytics) (2.32.4)\n",
            "Requirement already satisfied: scipy>=1.4.1 in /usr/local/lib/python3.12/dist-packages (from ultralytics) (1.16.1)\n",
            "Requirement already satisfied: psutil in /usr/local/lib/python3.12/dist-packages (from ultralytics) (5.9.5)\n",
            "Requirement already satisfied: polars in /usr/local/lib/python3.12/dist-packages (from ultralytics) (1.25.2)\n",
            "Collecting ultralytics-thop>=2.0.0 (from ultralytics)\n",
            "  Downloading ultralytics_thop-2.0.17-py3-none-any.whl.metadata (14 kB)\n",
            "Requirement already satisfied: contourpy>=1.0.1 in /usr/local/lib/python3.12/dist-packages (from matplotlib>=3.3.0->ultralytics) (1.3.3)\n",
            "Requirement already satisfied: cycler>=0.10 in /usr/local/lib/python3.12/dist-packages (from matplotlib>=3.3.0->ultralytics) (0.12.1)\n",
            "Requirement already satisfied: fonttools>=4.22.0 in /usr/local/lib/python3.12/dist-packages (from matplotlib>=3.3.0->ultralytics) (4.59.2)\n",
            "Requirement already satisfied: kiwisolver>=1.3.1 in /usr/local/lib/python3.12/dist-packages (from matplotlib>=3.3.0->ultralytics) (1.4.9)\n",
            "Requirement already satisfied: packaging>=20.0 in /usr/local/lib/python3.12/dist-packages (from matplotlib>=3.3.0->ultralytics) (25.0)\n",
            "Requirement already satisfied: pyparsing>=2.3.1 in /usr/local/lib/python3.12/dist-packages (from matplotlib>=3.3.0->ultralytics) (3.2.3)\n",
            "Requirement already satisfied: python-dateutil>=2.7 in /usr/local/lib/python3.12/dist-packages (from matplotlib>=3.3.0->ultralytics) (2.9.0.post0)\n",
            "Requirement already satisfied: charset_normalizer<4,>=2 in /usr/local/lib/python3.12/dist-packages (from requests>=2.23.0->ultralytics) (3.4.3)\n",
            "Requirement already satisfied: idna<4,>=2.5 in /usr/local/lib/python3.12/dist-packages (from requests>=2.23.0->ultralytics) (3.10)\n",
            "Requirement already satisfied: urllib3<3,>=1.21.1 in /usr/local/lib/python3.12/dist-packages (from requests>=2.23.0->ultralytics) (2.5.0)\n",
            "Requirement already satisfied: certifi>=2017.4.17 in /usr/local/lib/python3.12/dist-packages (from requests>=2.23.0->ultralytics) (2025.8.3)\n",
            "Requirement already satisfied: mpmath<1.4,>=1.1.0 in /usr/local/lib/python3.12/dist-packages (from sympy>=1.13.3->torch) (1.3.0)\n",
            "Requirement already satisfied: MarkupSafe>=2.0 in /usr/local/lib/python3.12/dist-packages (from jinja2->torch) (3.0.2)\n",
            "Requirement already satisfied: six>=1.5 in /usr/local/lib/python3.12/dist-packages (from python-dateutil>=2.7->matplotlib>=3.3.0->ultralytics) (1.17.0)\n",
            "Downloading ultralytics-8.3.201-py3-none-any.whl (1.1 MB)\n",
            "\u001b[2K   \u001b[90m━━━━━━━━━━━━━━━━━━━━━━━━━━━━━━━━━━━━━━━━\u001b[0m \u001b[32m1.1/1.1 MB\u001b[0m \u001b[31m28.7 MB/s\u001b[0m eta \u001b[36m0:00:00\u001b[0m\n",
            "\u001b[?25hDownloading ultralytics_thop-2.0.17-py3-none-any.whl (28 kB)\n",
            "Installing collected packages: ultralytics-thop, ultralytics\n",
            "Successfully installed ultralytics-8.3.201 ultralytics-thop-2.0.17\n",
            "Hit:1 https://cli.github.com/packages stable InRelease\n",
            "Get:2 https://cloud.r-project.org/bin/linux/ubuntu jammy-cran40/ InRelease [3,632 B]\n",
            "Hit:3 https://developer.download.nvidia.com/compute/cuda/repos/ubuntu2204/x86_64  InRelease\n",
            "Hit:4 http://archive.ubuntu.com/ubuntu jammy InRelease\n",
            "Get:5 http://security.ubuntu.com/ubuntu jammy-security InRelease [129 kB]\n",
            "Get:6 http://archive.ubuntu.com/ubuntu jammy-updates InRelease [128 kB]\n",
            "Get:7 https://r2u.stat.illinois.edu/ubuntu jammy InRelease [6,555 B]\n",
            "Get:8 https://r2u.stat.illinois.edu/ubuntu jammy/main amd64 Packages [2,798 kB]\n",
            "Hit:9 https://ppa.launchpadcontent.net/deadsnakes/ppa/ubuntu jammy InRelease\n",
            "Get:10 http://archive.ubuntu.com/ubuntu jammy-backports InRelease [127 kB]\n",
            "Hit:11 https://ppa.launchpadcontent.net/graphics-drivers/ppa/ubuntu jammy InRelease\n",
            "Get:12 http://archive.ubuntu.com/ubuntu jammy-updates/main amd64 Packages [3,638 kB]\n",
            "Hit:13 https://ppa.launchpadcontent.net/ubuntugis/ppa/ubuntu jammy InRelease\n",
            "Get:14 https://r2u.stat.illinois.edu/ubuntu jammy/main all Packages [9,280 kB]\n",
            "Get:15 http://archive.ubuntu.com/ubuntu jammy-updates/restricted amd64 Packages [5,665 kB]\n",
            "Get:16 http://security.ubuntu.com/ubuntu jammy-security/restricted amd64 Packages [5,449 kB]\n",
            "Get:17 http://security.ubuntu.com/ubuntu jammy-security/multiverse amd64 Packages [71.0 kB]\n",
            "Fetched 27.3 MB in 3s (8,778 kB/s)\n",
            "Reading package lists... Done\n",
            "W: Skipping acquire of configured file 'main/source/Sources' as repository 'https://r2u.stat.illinois.edu/ubuntu jammy InRelease' does not seem to provide it (sources.list entry misspelt?)\n",
            "Reading package lists... Done\n",
            "Building dependency tree... Done\n",
            "Reading state information... Done\n",
            "The following additional packages will be installed:\n",
            "  cuda-cccl-13-0 cuda-crt-13-0 cuda-cudart-13-0 cuda-cudart-dev-13-0\n",
            "  cuda-culibos-dev-13-0 cuda-driver-dev-13-0 cuda-nvcc-13-0\n",
            "  cuda-profiler-api-13-0 cuda-toolkit-13-0-config-common\n",
            "  cuda-toolkit-13-config-common libnvinfer-bin libnvinfer-dev\n",
            "  libnvinfer-dispatch-dev libnvinfer-dispatch10 libnvinfer-headers-dev\n",
            "  libnvinfer-headers-plugin-dev libnvinfer-headers-python-plugin-dev\n",
            "  libnvinfer-lean-dev libnvinfer-lean10 libnvinfer-plugin-dev\n",
            "  libnvinfer-plugin10 libnvinfer-samples libnvinfer-vc-plugin-dev\n",
            "  libnvinfer-vc-plugin10 libnvinfer-win-builder-resource10 libnvinfer10\n",
            "  libnvonnxparsers-dev libnvonnxparsers10 libnvptxcompiler-13-0 libnvvm-13-0\n",
            "  python3-libnvinfer python3-libnvinfer-dev python3-libnvinfer-dispatch\n",
            "  python3-libnvinfer-lean\n",
            "The following NEW packages will be installed:\n",
            "  cuda-cccl-13-0 cuda-crt-13-0 cuda-cudart-13-0 cuda-cudart-dev-13-0\n",
            "  cuda-culibos-dev-13-0 cuda-driver-dev-13-0 cuda-nvcc-13-0\n",
            "  cuda-profiler-api-13-0 cuda-toolkit-13-0-config-common\n",
            "  cuda-toolkit-13-config-common libnvinfer-bin libnvinfer-dev\n",
            "  libnvinfer-dispatch-dev libnvinfer-dispatch10 libnvinfer-headers-dev\n",
            "  libnvinfer-headers-plugin-dev libnvinfer-headers-python-plugin-dev\n",
            "  libnvinfer-lean-dev libnvinfer-lean10 libnvinfer-plugin-dev\n",
            "  libnvinfer-plugin10 libnvinfer-samples libnvinfer-vc-plugin-dev\n",
            "  libnvinfer-vc-plugin10 libnvinfer-win-builder-resource10 libnvinfer10\n",
            "  libnvonnxparsers-dev libnvonnxparsers10 libnvptxcompiler-13-0 libnvvm-13-0\n",
            "  python3-libnvinfer python3-libnvinfer-dev python3-libnvinfer-dispatch\n",
            "  python3-libnvinfer-lean tensorrt\n",
            "0 upgraded, 35 newly installed, 0 to remove and 38 not upgraded.\n",
            "Need to get 5,737 MB of archives.\n",
            "After this operation, 8,870 MB of additional disk space will be used.\n",
            "Get:1 https://developer.download.nvidia.com/compute/cuda/repos/ubuntu2204/x86_64  cuda-cccl-13-0 13.0.85-1 [1,034 kB]\n",
            "Get:2 https://developer.download.nvidia.com/compute/cuda/repos/ubuntu2204/x86_64  cuda-toolkit-13-config-common 13.0.88-1 [17.4 kB]\n",
            "Get:3 https://developer.download.nvidia.com/compute/cuda/repos/ubuntu2204/x86_64  cuda-toolkit-13-0-config-common 13.0.88-1 [17.4 kB]\n",
            "Get:4 https://developer.download.nvidia.com/compute/cuda/repos/ubuntu2204/x86_64  cuda-cudart-13-0 13.0.88-1 [163 kB]\n",
            "Get:5 https://developer.download.nvidia.com/compute/cuda/repos/ubuntu2204/x86_64  cuda-culibos-dev-13-0 13.0.85-1 [23.9 kB]\n",
            "Get:6 https://developer.download.nvidia.com/compute/cuda/repos/ubuntu2204/x86_64  cuda-driver-dev-13-0 13.0.88-1 [30.3 kB]\n",
            "Get:7 https://developer.download.nvidia.com/compute/cuda/repos/ubuntu2204/x86_64  cuda-cudart-dev-13-0 13.0.88-1 [1,395 kB]\n",
            "Get:8 https://developer.download.nvidia.com/compute/cuda/repos/ubuntu2204/x86_64  cuda-crt-13-0 13.0.88-1 [82.7 kB]\n",
            "Get:9 https://developer.download.nvidia.com/compute/cuda/repos/ubuntu2204/x86_64  libnvvm-13-0 13.0.88-1 [43.7 MB]\n",
            "Get:10 https://developer.download.nvidia.com/compute/cuda/repos/ubuntu2204/x86_64  libnvptxcompiler-13-0 13.0.88-1 [13.8 MB]\n",
            "Get:11 https://developer.download.nvidia.com/compute/cuda/repos/ubuntu2204/x86_64  cuda-nvcc-13-0 13.0.88-1 [26.7 MB]\n",
            "Get:12 https://developer.download.nvidia.com/compute/cuda/repos/ubuntu2204/x86_64  cuda-profiler-api-13-0 13.0.85-1 [19.5 kB]\n",
            "Get:13 https://developer.download.nvidia.com/compute/cuda/repos/ubuntu2204/x86_64  libnvinfer10 10.13.3.9-1+cuda13.0 [1,495 MB]\n",
            "Get:14 https://developer.download.nvidia.com/compute/cuda/repos/ubuntu2204/x86_64  libnvinfer-lean10 10.13.3.9-1+cuda13.0 [15.9 MB]\n",
            "Get:15 https://developer.download.nvidia.com/compute/cuda/repos/ubuntu2204/x86_64  libnvinfer-plugin10 10.13.3.9-1+cuda13.0 [16.8 MB]\n",
            "Get:16 https://developer.download.nvidia.com/compute/cuda/repos/ubuntu2204/x86_64  libnvinfer-vc-plugin10 10.13.3.9-1+cuda13.0 [254 kB]\n",
            "Get:17 https://developer.download.nvidia.com/compute/cuda/repos/ubuntu2204/x86_64  libnvinfer-dispatch10 10.13.3.9-1+cuda13.0 [215 kB]\n",
            "Get:18 https://developer.download.nvidia.com/compute/cuda/repos/ubuntu2204/x86_64  libnvonnxparsers10 10.13.3.9-1+cuda13.0 [1,438 kB]\n",
            "Get:19 https://developer.download.nvidia.com/compute/cuda/repos/ubuntu2204/x86_64  libnvinfer-bin 10.13.3.9-1+cuda13.0 [612 kB]\n",
            "Get:20 https://developer.download.nvidia.com/compute/cuda/repos/ubuntu2204/x86_64  libnvinfer-headers-dev 10.13.3.9-1+cuda13.0 [111 kB]\n",
            "Get:21 https://developer.download.nvidia.com/compute/cuda/repos/ubuntu2204/x86_64  libnvinfer-dev 10.13.3.9-1+cuda13.0 [2,624 MB]\n",
            "Get:22 https://developer.download.nvidia.com/compute/cuda/repos/ubuntu2204/x86_64  libnvinfer-dispatch-dev 10.13.3.9-1+cuda13.0 [127 kB]\n",
            "Get:23 https://developer.download.nvidia.com/compute/cuda/repos/ubuntu2204/x86_64  libnvinfer-headers-plugin-dev 10.13.3.9-1+cuda13.0 [6,048 B]\n",
            "Get:24 https://developer.download.nvidia.com/compute/cuda/repos/ubuntu2204/x86_64  libnvinfer-headers-python-plugin-dev 10.13.3.9-1+cuda13.0 [6,760 B]\n",
            "Get:25 https://developer.download.nvidia.com/compute/cuda/repos/ubuntu2204/x86_64  libnvinfer-lean-dev 10.13.3.9-1+cuda13.0 [219 MB]\n",
            "Get:26 https://developer.download.nvidia.com/compute/cuda/repos/ubuntu2204/x86_64  libnvinfer-plugin-dev 10.13.3.9-1+cuda13.0 [17.7 MB]\n",
            "Get:27 https://developer.download.nvidia.com/compute/cuda/repos/ubuntu2204/x86_64  libnvinfer-vc-plugin-dev 10.13.3.9-1+cuda13.0 [125 kB]\n",
            "Get:28 https://developer.download.nvidia.com/compute/cuda/repos/ubuntu2204/x86_64  libnvonnxparsers-dev 10.13.3.9-1+cuda13.0 [2,146 kB]\n",
            "Get:29 https://developer.download.nvidia.com/compute/cuda/repos/ubuntu2204/x86_64  libnvinfer-samples 10.13.3.9-1+cuda13.0 [187 MB]\n",
            "Get:30 https://developer.download.nvidia.com/compute/cuda/repos/ubuntu2204/x86_64  libnvinfer-win-builder-resource10 10.13.3.9-1+cuda13.0 [1,068 MB]\n",
            "Get:31 https://developer.download.nvidia.com/compute/cuda/repos/ubuntu2204/x86_64  python3-libnvinfer 10.13.3.9-1+cuda13.0 [798 kB]\n",
            "Get:32 https://developer.download.nvidia.com/compute/cuda/repos/ubuntu2204/x86_64  python3-libnvinfer-lean 10.13.3.9-1+cuda13.0 [513 kB]\n",
            "Get:33 https://developer.download.nvidia.com/compute/cuda/repos/ubuntu2204/x86_64  python3-libnvinfer-dispatch 10.13.3.9-1+cuda13.0 [513 kB]\n",
            "Get:34 https://developer.download.nvidia.com/compute/cuda/repos/ubuntu2204/x86_64  python3-libnvinfer-dev 10.13.3.9-1+cuda13.0 [2,958 B]\n",
            "Get:35 https://developer.download.nvidia.com/compute/cuda/repos/ubuntu2204/x86_64  tensorrt 10.13.3.9-1+cuda13.0 [2,970 B]\n",
            "Fetched 5,737 MB in 1min 22s (69.7 MB/s)\n",
            "Extracting templates from packages: 100%\n",
            "Selecting previously unselected package cuda-cccl-13-0.\n",
            "(Reading database ... 126435 files and directories currently installed.)\n",
            "Preparing to unpack .../00-cuda-cccl-13-0_13.0.85-1_amd64.deb ...\n",
            "Unpacking cuda-cccl-13-0 (13.0.85-1) ...\n",
            "Selecting previously unselected package cuda-toolkit-13-config-common.\n",
            "Preparing to unpack .../01-cuda-toolkit-13-config-common_13.0.88-1_all.deb ...\n",
            "Unpacking cuda-toolkit-13-config-common (13.0.88-1) ...\n",
            "Selecting previously unselected package cuda-toolkit-13-0-config-common.\n",
            "Preparing to unpack .../02-cuda-toolkit-13-0-config-common_13.0.88-1_all.deb ...\n",
            "Unpacking cuda-toolkit-13-0-config-common (13.0.88-1) ...\n",
            "Selecting previously unselected package cuda-cudart-13-0.\n",
            "Preparing to unpack .../03-cuda-cudart-13-0_13.0.88-1_amd64.deb ...\n",
            "Unpacking cuda-cudart-13-0 (13.0.88-1) ...\n",
            "Selecting previously unselected package cuda-culibos-dev-13-0.\n",
            "Preparing to unpack .../04-cuda-culibos-dev-13-0_13.0.85-1_amd64.deb ...\n",
            "Unpacking cuda-culibos-dev-13-0 (13.0.85-1) ...\n",
            "Selecting previously unselected package cuda-driver-dev-13-0.\n",
            "Preparing to unpack .../05-cuda-driver-dev-13-0_13.0.88-1_amd64.deb ...\n",
            "Unpacking cuda-driver-dev-13-0 (13.0.88-1) ...\n",
            "Selecting previously unselected package cuda-cudart-dev-13-0.\n",
            "Preparing to unpack .../06-cuda-cudart-dev-13-0_13.0.88-1_amd64.deb ...\n",
            "Unpacking cuda-cudart-dev-13-0 (13.0.88-1) ...\n",
            "Selecting previously unselected package cuda-crt-13-0.\n",
            "Preparing to unpack .../07-cuda-crt-13-0_13.0.88-1_amd64.deb ...\n",
            "Unpacking cuda-crt-13-0 (13.0.88-1) ...\n",
            "Selecting previously unselected package libnvvm-13-0.\n",
            "Preparing to unpack .../08-libnvvm-13-0_13.0.88-1_amd64.deb ...\n",
            "Unpacking libnvvm-13-0 (13.0.88-1) ...\n",
            "Selecting previously unselected package libnvptxcompiler-13-0.\n",
            "Preparing to unpack .../09-libnvptxcompiler-13-0_13.0.88-1_amd64.deb ...\n",
            "Unpacking libnvptxcompiler-13-0 (13.0.88-1) ...\n",
            "Selecting previously unselected package cuda-nvcc-13-0.\n",
            "Preparing to unpack .../10-cuda-nvcc-13-0_13.0.88-1_amd64.deb ...\n",
            "Unpacking cuda-nvcc-13-0 (13.0.88-1) ...\n",
            "Selecting previously unselected package cuda-profiler-api-13-0.\n",
            "Preparing to unpack .../11-cuda-profiler-api-13-0_13.0.85-1_amd64.deb ...\n",
            "Unpacking cuda-profiler-api-13-0 (13.0.85-1) ...\n",
            "Selecting previously unselected package libnvinfer10.\n",
            "Preparing to unpack .../12-libnvinfer10_10.13.3.9-1+cuda13.0_amd64.deb ...\n",
            "Unpacking libnvinfer10 (10.13.3.9-1+cuda13.0) ...\n",
            "Selecting previously unselected package libnvinfer-lean10.\n",
            "Preparing to unpack .../13-libnvinfer-lean10_10.13.3.9-1+cuda13.0_amd64.deb ...\n",
            "Unpacking libnvinfer-lean10 (10.13.3.9-1+cuda13.0) ...\n",
            "Selecting previously unselected package libnvinfer-plugin10.\n",
            "Preparing to unpack .../14-libnvinfer-plugin10_10.13.3.9-1+cuda13.0_amd64.deb ...\n",
            "Unpacking libnvinfer-plugin10 (10.13.3.9-1+cuda13.0) ...\n",
            "Selecting previously unselected package libnvinfer-vc-plugin10.\n",
            "Preparing to unpack .../15-libnvinfer-vc-plugin10_10.13.3.9-1+cuda13.0_amd64.deb ...\n",
            "Unpacking libnvinfer-vc-plugin10 (10.13.3.9-1+cuda13.0) ...\n",
            "Selecting previously unselected package libnvinfer-dispatch10.\n",
            "Preparing to unpack .../16-libnvinfer-dispatch10_10.13.3.9-1+cuda13.0_amd64.deb ...\n",
            "Unpacking libnvinfer-dispatch10 (10.13.3.9-1+cuda13.0) ...\n",
            "Selecting previously unselected package libnvonnxparsers10.\n",
            "Preparing to unpack .../17-libnvonnxparsers10_10.13.3.9-1+cuda13.0_amd64.deb ...\n",
            "Unpacking libnvonnxparsers10 (10.13.3.9-1+cuda13.0) ...\n",
            "Selecting previously unselected package libnvinfer-bin.\n",
            "Preparing to unpack .../18-libnvinfer-bin_10.13.3.9-1+cuda13.0_amd64.deb ...\n",
            "Unpacking libnvinfer-bin (10.13.3.9-1+cuda13.0) ...\n",
            "Selecting previously unselected package libnvinfer-headers-dev.\n",
            "Preparing to unpack .../19-libnvinfer-headers-dev_10.13.3.9-1+cuda13.0_amd64.deb ...\n",
            "Unpacking libnvinfer-headers-dev (10.13.3.9-1+cuda13.0) ...\n",
            "Selecting previously unselected package libnvinfer-dev.\n",
            "Preparing to unpack .../20-libnvinfer-dev_10.13.3.9-1+cuda13.0_amd64.deb ...\n",
            "Unpacking libnvinfer-dev (10.13.3.9-1+cuda13.0) ...\n",
            "Selecting previously unselected package libnvinfer-dispatch-dev.\n",
            "Preparing to unpack .../21-libnvinfer-dispatch-dev_10.13.3.9-1+cuda13.0_amd64.deb ...\n",
            "Unpacking libnvinfer-dispatch-dev (10.13.3.9-1+cuda13.0) ...\n",
            "Selecting previously unselected package libnvinfer-headers-plugin-dev.\n",
            "Preparing to unpack .../22-libnvinfer-headers-plugin-dev_10.13.3.9-1+cuda13.0_amd64.deb ...\n",
            "Unpacking libnvinfer-headers-plugin-dev (10.13.3.9-1+cuda13.0) ...\n",
            "Selecting previously unselected package libnvinfer-headers-python-plugin-dev.\n",
            "Preparing to unpack .../23-libnvinfer-headers-python-plugin-dev_10.13.3.9-1+cuda13.0_amd64.deb ...\n",
            "Unpacking libnvinfer-headers-python-plugin-dev (10.13.3.9-1+cuda13.0) ...\n",
            "Selecting previously unselected package libnvinfer-lean-dev.\n",
            "Preparing to unpack .../24-libnvinfer-lean-dev_10.13.3.9-1+cuda13.0_amd64.deb ...\n",
            "Unpacking libnvinfer-lean-dev (10.13.3.9-1+cuda13.0) ...\n",
            "Selecting previously unselected package libnvinfer-plugin-dev.\n",
            "Preparing to unpack .../25-libnvinfer-plugin-dev_10.13.3.9-1+cuda13.0_amd64.deb ...\n",
            "Unpacking libnvinfer-plugin-dev (10.13.3.9-1+cuda13.0) ...\n",
            "Selecting previously unselected package libnvinfer-vc-plugin-dev.\n",
            "Preparing to unpack .../26-libnvinfer-vc-plugin-dev_10.13.3.9-1+cuda13.0_amd64.deb ...\n",
            "Unpacking libnvinfer-vc-plugin-dev (10.13.3.9-1+cuda13.0) ...\n",
            "Selecting previously unselected package libnvonnxparsers-dev.\n",
            "Preparing to unpack .../27-libnvonnxparsers-dev_10.13.3.9-1+cuda13.0_amd64.deb ...\n",
            "Unpacking libnvonnxparsers-dev (10.13.3.9-1+cuda13.0) ...\n",
            "Selecting previously unselected package libnvinfer-samples.\n",
            "Preparing to unpack .../28-libnvinfer-samples_10.13.3.9-1+cuda13.0_all.deb ...\n",
            "Unpacking libnvinfer-samples (10.13.3.9-1+cuda13.0) ...\n",
            "Selecting previously unselected package libnvinfer-win-builder-resource10.\n",
            "Preparing to unpack .../29-libnvinfer-win-builder-resource10_10.13.3.9-1+cuda13.0_amd64.deb ...\n",
            "Unpacking libnvinfer-win-builder-resource10 (10.13.3.9-1+cuda13.0) ...\n",
            "Selecting previously unselected package python3-libnvinfer.\n",
            "Preparing to unpack .../30-python3-libnvinfer_10.13.3.9-1+cuda13.0_amd64.deb ...\n",
            "Unpacking python3-libnvinfer (10.13.3.9-1+cuda13.0) ...\n",
            "Selecting previously unselected package python3-libnvinfer-lean.\n",
            "Preparing to unpack .../31-python3-libnvinfer-lean_10.13.3.9-1+cuda13.0_amd64.deb ...\n",
            "Unpacking python3-libnvinfer-lean (10.13.3.9-1+cuda13.0) ...\n",
            "Selecting previously unselected package python3-libnvinfer-dispatch.\n",
            "Preparing to unpack .../32-python3-libnvinfer-dispatch_10.13.3.9-1+cuda13.0_amd64.deb ...\n",
            "Unpacking python3-libnvinfer-dispatch (10.13.3.9-1+cuda13.0) ...\n",
            "Selecting previously unselected package python3-libnvinfer-dev.\n",
            "Preparing to unpack .../33-python3-libnvinfer-dev_10.13.3.9-1+cuda13.0_amd64.deb ...\n",
            "Unpacking python3-libnvinfer-dev (10.13.3.9-1+cuda13.0) ...\n",
            "Selecting previously unselected package tensorrt.\n",
            "Preparing to unpack .../34-tensorrt_10.13.3.9-1+cuda13.0_amd64.deb ...\n",
            "Unpacking tensorrt (10.13.3.9-1+cuda13.0) ...\n",
            "Setting up libnvinfer-headers-dev (10.13.3.9-1+cuda13.0) ...\n",
            "Setting up libnvinfer10 (10.13.3.9-1+cuda13.0) ...\n",
            "Setting up libnvinfer-plugin10 (10.13.3.9-1+cuda13.0) ...\n",
            "Setting up libnvinfer-vc-plugin10 (10.13.3.9-1+cuda13.0) ...\n",
            "Setting up libnvonnxparsers10 (10.13.3.9-1+cuda13.0) ...\n",
            "Setting up libnvinfer-dispatch10 (10.13.3.9-1+cuda13.0) ...\n",
            "Setting up cuda-toolkit-13-config-common (13.0.88-1) ...\n",
            "Setting up libnvinfer-dispatch-dev (10.13.3.9-1+cuda13.0) ...\n",
            "Setting up cuda-cccl-13-0 (13.0.85-1) ...\n",
            "Setting up libnvinfer-win-builder-resource10 (10.13.3.9-1+cuda13.0) ...\n",
            "Setting up libnvinfer-dev (10.13.3.9-1+cuda13.0) ...\n",
            "Setting up cuda-culibos-dev-13-0 (13.0.85-1) ...\n",
            "Setting up libnvinfer-lean10 (10.13.3.9-1+cuda13.0) ...\n",
            "Setting up cuda-toolkit-13-0-config-common (13.0.88-1) ...\n",
            "Setting alternatives\n",
            "update-alternatives: using /usr/local/cuda-13.0 to provide /usr/local/cuda (cuda) in auto mode\n",
            "update-alternatives: using /usr/local/cuda-13.0 to provide /usr/local/cuda-13 (cuda-13) in auto mode\n",
            "Setting up libnvptxcompiler-13-0 (13.0.88-1) ...\n",
            "Setting up libnvonnxparsers-dev (10.13.3.9-1+cuda13.0) ...\n",
            "Setting up python3-libnvinfer-dispatch (10.13.3.9-1+cuda13.0) ...\n",
            "Setting up libnvinfer-headers-plugin-dev (10.13.3.9-1+cuda13.0) ...\n",
            "Setting up cuda-driver-dev-13-0 (13.0.88-1) ...\n",
            "Setting up libnvinfer-headers-python-plugin-dev (10.13.3.9-1+cuda13.0) ...\n",
            "Setting up cuda-profiler-api-13-0 (13.0.85-1) ...\n",
            "Setting up libnvinfer-lean-dev (10.13.3.9-1+cuda13.0) ...\n",
            "Setting up libnvvm-13-0 (13.0.88-1) ...\n",
            "Setting up python3-libnvinfer (10.13.3.9-1+cuda13.0) ...\n",
            "Setting up python3-libnvinfer-lean (10.13.3.9-1+cuda13.0) ...\n",
            "Setting up cuda-cudart-13-0 (13.0.88-1) ...\n",
            "Setting up libnvinfer-plugin-dev (10.13.3.9-1+cuda13.0) ...\n",
            "Setting up libnvinfer-vc-plugin-dev (10.13.3.9-1+cuda13.0) ...\n",
            "Setting up libnvinfer-bin (10.13.3.9-1+cuda13.0) ...\n",
            "Setting up cuda-cudart-dev-13-0 (13.0.88-1) ...\n",
            "Setting up python3-libnvinfer-dev (10.13.3.9-1+cuda13.0) ...\n",
            "Setting up cuda-crt-13-0 (13.0.88-1) ...\n",
            "Setting up cuda-nvcc-13-0 (13.0.88-1) ...\n",
            "Setting up libnvinfer-samples (10.13.3.9-1+cuda13.0) ...\n",
            "Setting up tensorrt (10.13.3.9-1+cuda13.0) ...\n",
            "Processing triggers for libc-bin (2.35-0ubuntu3.8) ...\n",
            "/sbin/ldconfig.real: /usr/local/lib/libur_adapter_level_zero_v2.so.0 is not a symbolic link\n",
            "\n",
            "/sbin/ldconfig.real: /usr/local/lib/libur_loader.so.0 is not a symbolic link\n",
            "\n",
            "/sbin/ldconfig.real: /usr/local/lib/libtbbbind_2_5.so.3 is not a symbolic link\n",
            "\n",
            "/sbin/ldconfig.real: /usr/local/lib/libhwloc.so.15 is not a symbolic link\n",
            "\n",
            "/sbin/ldconfig.real: /usr/local/lib/libtcm_debug.so.1 is not a symbolic link\n",
            "\n",
            "/sbin/ldconfig.real: /usr/local/lib/libtbbbind_2_0.so.3 is not a symbolic link\n",
            "\n",
            "/sbin/ldconfig.real: /usr/local/lib/libtbbmalloc.so.2 is not a symbolic link\n",
            "\n",
            "/sbin/ldconfig.real: /usr/local/lib/libur_adapter_level_zero.so.0 is not a symbolic link\n",
            "\n",
            "/sbin/ldconfig.real: /usr/local/lib/libtbbmalloc_proxy.so.2 is not a symbolic link\n",
            "\n",
            "/sbin/ldconfig.real: /usr/local/lib/libumf.so.0 is not a symbolic link\n",
            "\n",
            "/sbin/ldconfig.real: /usr/local/lib/libur_adapter_opencl.so.0 is not a symbolic link\n",
            "\n",
            "/sbin/ldconfig.real: /usr/local/lib/libtbb.so.12 is not a symbolic link\n",
            "\n",
            "/sbin/ldconfig.real: /usr/local/lib/libtcm.so.1 is not a symbolic link\n",
            "\n",
            "/sbin/ldconfig.real: /usr/local/lib/libtbbbind.so.3 is not a symbolic link\n",
            "\n"
          ]
        }
      ]
    },
    {
      "cell_type": "code",
      "source": [
        "!pip install tensorrt"
      ],
      "metadata": {
        "colab": {
          "base_uri": "https://localhost:8080/"
        },
        "id": "wPKePPoJPslu",
        "outputId": "a4771a16-0a2d-4e57-cd8e-8d7b5ed4ade8"
      },
      "execution_count": 2,
      "outputs": [
        {
          "output_type": "stream",
          "name": "stdout",
          "text": [
            "Collecting tensorrt\n",
            "  Downloading tensorrt-10.13.3.9.tar.gz (40 kB)\n",
            "\u001b[?25l     \u001b[90m━━━━━━━━━━━━━━━━━━━━━━━━━━━━━━━━━━━━━━━━\u001b[0m \u001b[32m0.0/40.5 kB\u001b[0m \u001b[31m?\u001b[0m eta \u001b[36m-:--:--\u001b[0m\r\u001b[2K     \u001b[90m━━━━━━━━━━━━━━━━━━━━━━━━━━━━━━━━━━━━━━━━\u001b[0m \u001b[32m40.5/40.5 kB\u001b[0m \u001b[31m2.7 MB/s\u001b[0m eta \u001b[36m0:00:00\u001b[0m\n",
            "\u001b[?25h  Preparing metadata (setup.py) ... \u001b[?25l\u001b[?25hdone\n",
            "Collecting tensorrt_cu13==10.13.3.9 (from tensorrt)\n",
            "  Downloading tensorrt_cu13-10.13.3.9.tar.gz (18 kB)\n",
            "  Preparing metadata (setup.py) ... \u001b[?25l\u001b[?25hdone\n",
            "Collecting tensorrt_cu13_libs==10.13.3.9 (from tensorrt_cu13==10.13.3.9->tensorrt)\n",
            "  Downloading tensorrt_cu13_libs-10.13.3.9.tar.gz (706 bytes)\n",
            "  Installing build dependencies ... \u001b[?25l\u001b[?25hdone\n",
            "  Getting requirements to build wheel ... \u001b[?25l\u001b[?25hdone\n",
            "  Preparing metadata (pyproject.toml) ... \u001b[?25l\u001b[?25hdone\n",
            "Collecting tensorrt_cu13_bindings==10.13.3.9 (from tensorrt_cu13==10.13.3.9->tensorrt)\n",
            "  Downloading tensorrt_cu13_bindings-10.13.3.9-cp312-none-manylinux_2_28_x86_64.whl.metadata (606 bytes)\n",
            "Collecting nvidia-cuda-runtime-cu13 (from tensorrt_cu13_libs==10.13.3.9->tensorrt_cu13==10.13.3.9->tensorrt)\n",
            "  Downloading nvidia_cuda_runtime_cu13-0.0.0a0-py2.py3-none-any.whl.metadata (225 bytes)\n",
            "Downloading tensorrt_cu13_bindings-10.13.3.9-cp312-none-manylinux_2_28_x86_64.whl (1.2 MB)\n",
            "\u001b[2K   \u001b[90m━━━━━━━━━━━━━━━━━━━━━━━━━━━━━━━━━━━━━━━━\u001b[0m \u001b[32m1.2/1.2 MB\u001b[0m \u001b[31m32.9 MB/s\u001b[0m eta \u001b[36m0:00:00\u001b[0m\n",
            "\u001b[?25hDownloading nvidia_cuda_runtime_cu13-0.0.0a0-py2.py3-none-any.whl (1.2 kB)\n",
            "Building wheels for collected packages: tensorrt, tensorrt_cu13, tensorrt_cu13_libs\n",
            "  Building wheel for tensorrt (setup.py) ... \u001b[?25l\u001b[?25hdone\n",
            "  Created wheel for tensorrt: filename=tensorrt-10.13.3.9-py2.py3-none-any.whl size=46401 sha256=7008b02352fd65fbdecfdb3552a1f871ea4a731443b592dbe5e8f0b55d27aca0\n",
            "  Stored in directory: /root/.cache/pip/wheels/1a/aa/b0/561559321c1659e43c5a6661986c3072f9c383efeeaaffb1a5\n",
            "  Building wheel for tensorrt_cu13 (setup.py) ... \u001b[?25l\u001b[?25hdone\n",
            "  Created wheel for tensorrt_cu13: filename=tensorrt_cu13-10.13.3.9-py2.py3-none-any.whl size=17436 sha256=f61ea41e009ae4c11713094602c372c15aa3c58adc9814b5d985d5933d33f583\n",
            "  Stored in directory: /root/.cache/pip/wheels/df/4a/b2/ebfc5437a397c53faff0dca4a36c096d4b7d2b7436a2707e60\n",
            "  Building wheel for tensorrt_cu13_libs (pyproject.toml) ... \u001b[?25l\u001b[?25hdone\n",
            "  Created wheel for tensorrt_cu13_libs: filename=tensorrt_cu13_libs-10.13.3.9-py2.py3-none-manylinux_2_28_x86_64.whl size=2740897716 sha256=19a54f2106f7d9496433a01a596fa4e363f58901110306abe1ce7b6e9617c6a7\n",
            "  Stored in directory: /root/.cache/pip/wheels/90/c2/ab/e79d384901e98797feb52a9ef4e0bbff65c0732f313bfa604f\n",
            "Successfully built tensorrt tensorrt_cu13 tensorrt_cu13_libs\n",
            "Installing collected packages: tensorrt_cu13_bindings, nvidia-cuda-runtime-cu13, tensorrt_cu13_libs, tensorrt_cu13, tensorrt\n",
            "Successfully installed nvidia-cuda-runtime-cu13-0.0.0a0 tensorrt-10.13.3.9 tensorrt_cu13-10.13.3.9 tensorrt_cu13_bindings-10.13.3.9 tensorrt_cu13_libs-10.13.3.9\n"
          ]
        }
      ]
    },
    {
      "cell_type": "code",
      "source": [],
      "metadata": {
        "id": "LVvqjuPnQOLR"
      },
      "execution_count": null,
      "outputs": []
    },
    {
      "cell_type": "markdown",
      "source": [
        "Step 1) Defining the network\n",
        "\n",
        "Step 2) Setting up the INT8 calibrator\n",
        "\n",
        "Step 3) Configuring the builder\n",
        "\n",
        "Step 4) Building the TensorRT engine\n",
        "\n",
        "Step 5) Running inference\n",
        "\n",
        "Step 6) Verifying the output **bold text**"
      ],
      "metadata": {
        "id": "L-rrw8UOOuRs"
      }
    },
    {
      "cell_type": "code",
      "source": [
        "!pip install pycuda"
      ],
      "metadata": {
        "colab": {
          "base_uri": "https://localhost:8080/"
        },
        "id": "yhsoslnmQTlF",
        "outputId": "8a2dad83-cca8-4756-8ebf-c42b9d24381a"
      },
      "execution_count": 3,
      "outputs": [
        {
          "output_type": "stream",
          "name": "stdout",
          "text": [
            "Collecting pycuda\n",
            "  Downloading pycuda-2025.1.2.tar.gz (1.7 MB)\n",
            "\u001b[?25l     \u001b[90m━━━━━━━━━━━━━━━━━━━━━━━━━━━━━━━━━━━━━━━━\u001b[0m \u001b[32m0.0/1.7 MB\u001b[0m \u001b[31m?\u001b[0m eta \u001b[36m-:--:--\u001b[0m\r\u001b[2K     \u001b[91m━━━━━━━━━━━━━━━\u001b[0m\u001b[91m╸\u001b[0m\u001b[90m━━━━━━━━━━━━━━━━━━━━━━━━\u001b[0m \u001b[32m0.7/1.7 MB\u001b[0m \u001b[31m19.8 MB/s\u001b[0m eta \u001b[36m0:00:01\u001b[0m\r\u001b[2K     \u001b[90m━━━━━━━━━━━━━━━━━━━━━━━━━━━━━━━━━━━━━━━━\u001b[0m \u001b[32m1.7/1.7 MB\u001b[0m \u001b[31m30.4 MB/s\u001b[0m eta \u001b[36m0:00:00\u001b[0m\n",
            "\u001b[?25h  Installing build dependencies ... \u001b[?25l\u001b[?25hdone\n",
            "  Getting requirements to build wheel ... \u001b[?25l\u001b[?25hdone\n",
            "  Preparing metadata (pyproject.toml) ... \u001b[?25l\u001b[?25hdone\n",
            "Collecting pytools>=2011.2 (from pycuda)\n",
            "  Downloading pytools-2025.2.4-py3-none-any.whl.metadata (2.9 kB)\n",
            "Requirement already satisfied: platformdirs>=2.2.0 in /usr/local/lib/python3.12/dist-packages (from pycuda) (4.4.0)\n",
            "Requirement already satisfied: mako in /usr/local/lib/python3.12/dist-packages (from pycuda) (1.3.10)\n",
            "Collecting siphash24>=1.6 (from pytools>=2011.2->pycuda)\n",
            "  Downloading siphash24-1.8-cp312-cp312-manylinux2014_x86_64.manylinux_2_17_x86_64.manylinux_2_28_x86_64.whl.metadata (3.2 kB)\n",
            "Requirement already satisfied: typing-extensions>=4.5 in /usr/local/lib/python3.12/dist-packages (from pytools>=2011.2->pycuda) (4.15.0)\n",
            "Requirement already satisfied: MarkupSafe>=0.9.2 in /usr/local/lib/python3.12/dist-packages (from mako->pycuda) (3.0.2)\n",
            "Downloading pytools-2025.2.4-py3-none-any.whl (99 kB)\n",
            "\u001b[2K   \u001b[90m━━━━━━━━━━━━━━━━━━━━━━━━━━━━━━━━━━━━━━━━\u001b[0m \u001b[32m99.4/99.4 kB\u001b[0m \u001b[31m9.8 MB/s\u001b[0m eta \u001b[36m0:00:00\u001b[0m\n",
            "\u001b[?25hDownloading siphash24-1.8-cp312-cp312-manylinux2014_x86_64.manylinux_2_17_x86_64.manylinux_2_28_x86_64.whl (103 kB)\n",
            "\u001b[2K   \u001b[90m━━━━━━━━━━━━━━━━━━━━━━━━━━━━━━━━━━━━━━━━\u001b[0m \u001b[32m103.2/103.2 kB\u001b[0m \u001b[31m10.7 MB/s\u001b[0m eta \u001b[36m0:00:00\u001b[0m\n",
            "\u001b[?25hBuilding wheels for collected packages: pycuda\n",
            "  Building wheel for pycuda (pyproject.toml) ... \u001b[?25l\u001b[?25hdone\n",
            "  Created wheel for pycuda: filename=pycuda-2025.1.2-cp312-cp312-linux_x86_64.whl size=659050 sha256=5bfa38fd8580336fa63c80c5b848bddf64db80fe5748c0c2d5bfe326cc5a1e1c\n",
            "  Stored in directory: /root/.cache/pip/wheels/d5/36/f3/ac5f09d768cad3fa15d5a3449bdfe65c3de58e69d036c73228\n",
            "Successfully built pycuda\n",
            "Installing collected packages: siphash24, pytools, pycuda\n",
            "Successfully installed pycuda-2025.1.2 pytools-2025.2.4 siphash24-1.8\n"
          ]
        }
      ]
    },
    {
      "cell_type": "code",
      "source": [
        "import tensorrt as trt\n",
        "import pycuda.driver as cuda\n",
        "import pycuda.autoinit\n",
        "import numpy as np\n"
      ],
      "metadata": {
        "id": "uIfa2UpJPEqh"
      },
      "execution_count": 4,
      "outputs": []
    },
    {
      "cell_type": "code",
      "source": [
        "!pip install ultralytics --quiet\n",
        "!pip install torch torchvision --quiet\n"
      ],
      "metadata": {
        "colab": {
          "base_uri": "https://localhost:8080/"
        },
        "id": "gNRRJKNnOtED",
        "outputId": "782ac809-f82e-4dee-cf8d-508429f044c4"
      },
      "execution_count": 10,
      "outputs": [
        {
          "output_type": "stream",
          "name": "stdout",
          "text": [
            "\u001b[?25l   \u001b[90m━━━━━━━━━━━━━━━━━━━━━━━━━━━━━━━━━━━━━━━━\u001b[0m \u001b[32m0.0/1.1 MB\u001b[0m \u001b[31m?\u001b[0m eta \u001b[36m-:--:--\u001b[0m\r\u001b[2K   \u001b[91m━━━━━━━━━━━━━━━━━━━━━━━━━━━━━━━━━━━━━━━\u001b[0m\u001b[91m╸\u001b[0m \u001b[32m1.1/1.1 MB\u001b[0m \u001b[31m46.6 MB/s\u001b[0m eta \u001b[36m0:00:01\u001b[0m\r\u001b[2K   \u001b[90m━━━━━━━━━━━━━━━━━━━━━━━━━━━━━━━━━━━━━━━━\u001b[0m \u001b[32m1.1/1.1 MB\u001b[0m \u001b[31m30.2 MB/s\u001b[0m eta \u001b[36m0:00:00\u001b[0m\n",
            "\u001b[?25h"
          ]
        }
      ]
    },
    {
      "cell_type": "code",
      "source": [
        "from ultralytics import YOLO\n",
        "\n",
        "model = YOLO(\"yolov8n.pt\")"
      ],
      "metadata": {
        "colab": {
          "base_uri": "https://localhost:8080/"
        },
        "id": "FBnt0jFEO2FY",
        "outputId": "658ddf4c-aa2d-40fe-e5a1-2f3edf375e47"
      },
      "execution_count": 11,
      "outputs": [
        {
          "output_type": "stream",
          "name": "stdout",
          "text": [
            "Creating new Ultralytics Settings v0.0.6 file ✅ \n",
            "View Ultralytics Settings with 'yolo settings' or at '/root/.config/Ultralytics/settings.json'\n",
            "Update Settings with 'yolo settings key=value', i.e. 'yolo settings runs_dir=path/to/dir'. For help see https://docs.ultralytics.com/quickstart/#ultralytics-settings.\n",
            "\u001b[KDownloading https://github.com/ultralytics/assets/releases/download/v8.3.0/yolov8n.pt to 'yolov8n.pt': 100% ━━━━━━━━━━━━ 6.2MB 93.5MB/s 0.1s\n"
          ]
        }
      ]
    },
    {
      "cell_type": "code",
      "source": [
        "\n",
        "onnx_path = \"/content/yolov8n.pt\"\n",
        "model.export(format=\"onnx\", opset=17, dynamic=False, simplify=True, imgsz=640)\n",
        "\n"
      ],
      "metadata": {
        "colab": {
          "base_uri": "https://localhost:8080/",
          "height": 413
        },
        "id": "x19SgGuROukJ",
        "outputId": "62a2dda0-efdc-4cca-bcba-87ed691d46a9"
      },
      "execution_count": 12,
      "outputs": [
        {
          "output_type": "stream",
          "name": "stdout",
          "text": [
            "Ultralytics 8.3.201 🚀 Python-3.12.11 torch-2.8.0+cu126 CPU (Intel Xeon CPU @ 2.00GHz)\n",
            "💡 ProTip: Export to OpenVINO format for best performance on Intel hardware. Learn more at https://docs.ultralytics.com/integrations/openvino/\n",
            "YOLOv8n summary (fused): 72 layers, 3,151,904 parameters, 0 gradients, 8.7 GFLOPs\n",
            "\n",
            "\u001b[34m\u001b[1mPyTorch:\u001b[0m starting from 'yolov8n.pt' with input shape (1, 3, 640, 640) BCHW and output shape(s) (1, 84, 8400) (6.2 MB)\n",
            "\u001b[31m\u001b[1mrequirements:\u001b[0m Ultralytics requirements ['onnxslim>=0.1.67', 'onnxruntime-gpu'] not found, attempting AutoUpdate...\n",
            "\n",
            "\u001b[31m\u001b[1mrequirements:\u001b[0m AutoUpdate success ✅ 6.6s\n",
            "WARNING ⚠️ \u001b[31m\u001b[1mrequirements:\u001b[0m \u001b[1mRestart runtime or rerun command for updates to take effect\u001b[0m\n",
            "\n",
            "\n",
            "\u001b[34m\u001b[1mONNX:\u001b[0m starting export with onnx 1.19.0 opset 17...\n",
            "\u001b[34m\u001b[1mONNX:\u001b[0m slimming with onnxslim 0.1.68...\n",
            "\u001b[34m\u001b[1mONNX:\u001b[0m export success ✅ 10.3s, saved as 'yolov8n.onnx' (12.2 MB)\n",
            "\n",
            "Export complete (10.9s)\n",
            "Results saved to \u001b[1m/content\u001b[0m\n",
            "Predict:         yolo predict task=detect model=yolov8n.onnx imgsz=640  \n",
            "Validate:        yolo val task=detect model=yolov8n.onnx imgsz=640 data=coco.yaml  \n",
            "Visualize:       https://netron.app\n"
          ]
        },
        {
          "output_type": "execute_result",
          "data": {
            "text/plain": [
              "'yolov8n.onnx'"
            ],
            "application/vnd.google.colaboratory.intrinsic+json": {
              "type": "string"
            }
          },
          "metadata": {},
          "execution_count": 12
        }
      ]
    },
    {
      "cell_type": "code",
      "source": [
        "import cv2\n",
        "import numpy as np\n",
        "\n",
        "video_path = \"/content/4K Road traffic video for object detection and tracking - free download now! - Karol Majek (360p, h264).mp4\"\n",
        "\n",
        "\n",
        "cap = cv2.VideoCapture(video_path)\n",
        "calibration_frames = []\n",
        "frame_count = 0\n",
        "max_frames = 100\n",
        "\n",
        "while cap.isOpened() and frame_count < max_frames:\n",
        "    ret, frame = cap.read()\n",
        "    if not ret:\n",
        "        break\n",
        "\n",
        "    frame = cv2.resize(frame, (640, 640))\n",
        "    frame = frame.astype(np.float32) / 255.0\n",
        "    frame = np.transpose(frame, (2, 0, 1))\n",
        "    calibration_frames.append(frame)\n",
        "    frame_count += 1\n",
        "\n",
        "cap.release()\n",
        "\n",
        "# Stack frames for easier batching\n",
        "calibration_data = np.array(calibration_frames)\n",
        "print(\"Calibration data shape:\", calibration_data.shape)\n"
      ],
      "metadata": {
        "colab": {
          "base_uri": "https://localhost:8080/"
        },
        "id": "lcg72xv_OCbd",
        "outputId": "27a86c21-448b-45f7-c902-d3ce4482ec04"
      },
      "execution_count": 6,
      "outputs": [
        {
          "output_type": "stream",
          "name": "stdout",
          "text": [
            "Calibration data shape: (100, 3, 640, 640)\n"
          ]
        }
      ]
    },
    {
      "cell_type": "markdown",
      "source": [
        " Defining the network\n",
        "\n",
        "1.   Prepare Representative Dataset\n",
        "2.   Create INT8 Calibrator\n",
        "\n",
        "\n",
        "\n"
      ],
      "metadata": {
        "id": "GZ1sPHGHSOjI"
      }
    },
    {
      "cell_type": "code",
      "source": [
        "calibration_images=np.random.rand(32,3,224,224).astype(np.float32)"
      ],
      "metadata": {
        "id": "-9PSZMXkSFUT"
      },
      "execution_count": null,
      "outputs": []
    },
    {
      "cell_type": "code",
      "source": [
        "!nvidia-smi\n"
      ],
      "metadata": {
        "colab": {
          "base_uri": "https://localhost:8080/"
        },
        "id": "iAjfjpvEMj9R",
        "outputId": "72745f64-d38f-43af-bf1b-6cfd8829b94e"
      },
      "execution_count": 7,
      "outputs": [
        {
          "output_type": "stream",
          "name": "stdout",
          "text": [
            "Wed Sep 17 19:48:51 2025       \n",
            "+-----------------------------------------------------------------------------------------+\n",
            "| NVIDIA-SMI 550.54.15              Driver Version: 550.54.15      CUDA Version: 12.4     |\n",
            "|-----------------------------------------+------------------------+----------------------+\n",
            "| GPU  Name                 Persistence-M | Bus-Id          Disp.A | Volatile Uncorr. ECC |\n",
            "| Fan  Temp   Perf          Pwr:Usage/Cap |           Memory-Usage | GPU-Util  Compute M. |\n",
            "|                                         |                        |               MIG M. |\n",
            "|=========================================+========================+======================|\n",
            "|   0  Tesla T4                       Off |   00000000:00:04.0 Off |                    0 |\n",
            "| N/A   60C    P0             29W /   70W |     102MiB /  15360MiB |      0%      Default |\n",
            "|                                         |                        |                  N/A |\n",
            "+-----------------------------------------+------------------------+----------------------+\n",
            "                                                                                         \n",
            "+-----------------------------------------------------------------------------------------+\n",
            "| Processes:                                                                              |\n",
            "|  GPU   GI   CI        PID   Type   Process name                              GPU Memory |\n",
            "|        ID   ID                                                               Usage      |\n",
            "|=========================================================================================|\n",
            "+-----------------------------------------------------------------------------------------+\n"
          ]
        }
      ]
    },
    {
      "cell_type": "code",
      "source": [
        "import pycuda.driver as cuda\n",
        "import tensorrt as trt\n",
        "\n",
        "class MyCalibrator(trt.IInt8EntropyCalibrator2):\n",
        "    def __init__(self, data, batch_size=8, gpu_id=0):\n",
        "        super().__init__()\n",
        "\n",
        "        # Manual CUDA init\n",
        "        cuda.init()\n",
        "        self.device = cuda.Device(gpu_id)\n",
        "        self.ctx = self.device.make_context()\n",
        "\n",
        "        self.data = data\n",
        "        self.batch_size = batch_size\n",
        "        self.index = 0\n",
        "        self.device_input = None\n",
        "\n",
        "    def get_batch_size(self):\n",
        "        return self.batch_size\n",
        "\n",
        "    def get_batch(self, names):\n",
        "        if self.index + self.batch_size > len(self.data):\n",
        "            return None\n",
        "        batch = self.data[self.index:self.index+self.batch_size].ravel()\n",
        "        if self.device_input is None:\n",
        "            self.device_input = cuda.mem_alloc(batch.nbytes)\n",
        "        cuda.memcpy_htod(self.device_input, batch)\n",
        "        self.index += self.batch_size\n",
        "        return [int(self.device_input)]\n",
        "\n",
        "    def read_calibration_cache(self):\n",
        "        try:\n",
        "            with open(\"calib_cache.bin\", \"rb\") as f:\n",
        "                return f.read()\n",
        "        except FileNotFoundError:\n",
        "            return None\n",
        "\n",
        "    def write_calibration_cache(self, cache):\n",
        "        with open(\"calib_cache.bin\", \"wb\") as f:\n",
        "            f.write(cache)\n",
        "\n",
        "    def __del__(self):\n",
        "        if hasattr(self, 'ctx'):\n",
        "            self.ctx.pop()\n",
        "            self.ctx.detach()\n"
      ],
      "metadata": {
        "id": "L3ji2QqiStJa"
      },
      "execution_count": 2,
      "outputs": []
    },
    {
      "cell_type": "code",
      "source": [
        "\n",
        "\n",
        "TRT_LOGGER = trt.Logger(trt.Logger.INFO)\n",
        "builder = trt.Builder(TRT_LOGGER)\n",
        "network = builder.create_network(flags=1 << int(trt.NetworkDefinitionCreationFlag.EXPLICIT_BATCH))\n",
        "parser = trt.OnnxParser(network, TRT_LOGGER)\n",
        "\n",
        "with open(onnx_path, 'rb') as f:\n",
        "    parser.parse(f.read())\n"
      ],
      "metadata": {
        "id": "25E3ECo7PL_u"
      },
      "execution_count": null,
      "outputs": []
    }
  ]
}